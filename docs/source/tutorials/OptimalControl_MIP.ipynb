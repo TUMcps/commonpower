{
 "cells": [
  {
   "cell_type": "markdown",
   "id": "933c8594",
   "metadata": {},
   "source": [
    "# Optimal Control with Mixed Integer Programming\n",
    "\n",
    "In this tutorial we will explore simulating a more complex scenario controlled by CommonPower's built-in model predictive controller. \\\n",
    "As exemplary case study we investigate how the control behaviour varies if we use perfect knowledge vs. \"pressimistic\" vs. \"optimistic\" forecasters."
   ]
  },
  {
   "cell_type": "code",
   "execution_count": null,
   "id": "125a75fd",
   "metadata": {},
   "outputs": [],
   "source": [
    "import pathlib\n",
    "\n",
    "import pandas as pd\n",
    "from datetime import timedelta, datetime\n",
    "import matplotlib.pyplot as plt\n",
    "from tqdm import tqdm\n",
    "import numpy as np\n",
    "from numpy.random import uniform, normal, randint, choice\n",
    "from pyomo.core import AbstractModel, ConcreteModel, Param, Set, Var, Constraint, Objective, value, quicksum\n",
    "from copy import deepcopy\n",
    "from randomtimestamp import randomtimestamp\n",
    "from functools import partial\n",
    "\n",
    "import pyomo.environ as pyo\n",
    "from commonpower.core import Node, System, Bus\n",
    "from commonpower.models.components import *\n",
    "from commonpower.models.busses import *\n",
    "from commonpower.models.lines import *\n",
    "from commonpower.models.powerflow import *\n",
    "from commonpower.extensions.factories import Factory, Sampler\n",
    "from commonpower.data_forecasting import *\n",
    "from commonpower.utils.param_initialization import *\n",
    "from commonpower.control.controllers import *\n",
    "from commonpower.control.safety_layer.safety_layers import *\n",
    "from commonpower.control.logging.loggers import *\n",
    "from commonpower.control.runners import *\n",
    "from commonpower.control.wrappers import *\n",
    "from commonpower.modelling import ModelHistory\n",
    "\n",
    "from commonpower.extensions.network_import import PandaPowerImporter\n",
    "import pandapower.networks as pn"
   ]
  },
  {
   "cell_type": "markdown",
   "id": "e9bb0a25",
   "metadata": {},
   "source": [
    "## Parameters"
   ]
  },
  {
   "cell_type": "code",
   "execution_count": null,
   "id": "518980ac",
   "metadata": {},
   "outputs": [],
   "source": [
    "horizon = timedelta(hours=24)\n",
    "frequency = timedelta(hours=1)\n",
    "\n",
    "sim_steps = 24 * 10  # simulate 10 days\n",
    "\n",
    "# for more randomness\n",
    "#rand_seed = np.random.randint(1000)\n",
    "#date_range = load_dp_a.get_date_range()\n",
    "#start_time = randomtimestamp(start=date_range[0], end=date_range[1]-sim_steps*frequency, text=True, pattern=\"%d.%m.%Y\") + \" 00:00\"\n",
    "\n",
    "start_time = \"23.02.2016\"\n",
    "rand_seed = 6\n",
    "\n",
    "power_flow_mode = DCPowerFlowModel()  # running this with PowerBalanceModel() is solved significantly faster\n"
   ]
  },
  {
   "cell_type": "markdown",
   "id": "00df6e9f",
   "metadata": {},
   "source": [
    "## Data providers"
   ]
  },
  {
   "cell_type": "code",
   "execution_count": null,
   "id": "35895177",
   "metadata": {},
   "outputs": [],
   "source": [
    "# path to data profiles\n",
    "current_path = pathlib.Path().absolute()\n",
    "data_path = current_path / 'data'\n",
    "data_path = data_path.resolve()\n",
    "\n",
    "load_data_a = CSVDataSource(data_path  / '1-LV-rural2--1-sw' / 'LoadProfile.csv',\n",
    "            delimiter=\";\", \n",
    "            datetime_format=\"%d.%m.%Y %H:%M\", \n",
    "            rename_dict={\"time\": \"t\", \"H0-A_pload\": \"p\", \"H0-A_qload\": \"q\"},\n",
    "            auto_drop=True, \n",
    "            resample=frequency).apply_to_column(\"p\", lambda x: 10*x).apply_to_column(\"q\", lambda x: 0.0)\n",
    "\n",
    "load_data_b = CSVDataSource(data_path  / '1-LV-rural2--1-sw' / 'LoadProfile.csv',\n",
    "            delimiter=\";\", \n",
    "            datetime_format=\"%d.%m.%Y %H:%M\", \n",
    "            rename_dict={\"time\": \"t\", \"H0-A_pload\": \"p\", \"H0-A_qload\": \"q\"},\n",
    "            auto_drop=True, \n",
    "            resample=frequency).apply_to_column(\"p\", lambda x: 10*x).shift_time_series(timedelta(hours=24)).apply_to_column(\"q\", lambda x: 0.0)\n",
    "\n",
    "load_data_c = CSVDataSource(data_path  / '1-LV-rural2--1-sw' / 'LoadProfile.csv',\n",
    "            delimiter=\";\", \n",
    "            datetime_format=\"%d.%m.%Y %H:%M\", \n",
    "            rename_dict={\"time\": \"t\", \"H0-B_pload\": \"p\", \"H0-B_qload\": \"q\"},\n",
    "            auto_drop=True, \n",
    "            resample=frequency).apply_to_column(\"p\", lambda x: 10*x).apply_to_column(\"q\", lambda x: 0.0)\n",
    "\n",
    "price_data = CSVDataSource(data_path / 'spot_prices_dk.csv',\n",
    "            delimiter=\";\", \n",
    "            decimal=\",\",\n",
    "            datetime_format=\"%Y-%m-%d %H:%M\", \n",
    "            rename_dict={\"HourUTC\": \"t\", \"SpotPriceEUR\": \"psi\"},\n",
    "            auto_drop=True, \n",
    "            resample=frequency).apply_to_column(\"psi\", lambda x: x/100)\n",
    "\n",
    "pv_data_a = CSVDataSource(data_path / '1-LV-rural2--1-sw' / 'RESProfile.csv', \n",
    "        delimiter=\";\", \n",
    "        datetime_format=\"%d.%m.%Y %H:%M\", \n",
    "        rename_dict={\"time\": \"t\", \"PV3\": \"p\"},\n",
    "        auto_drop=True, \n",
    "        resample=frequency).apply_to_column(\"p\", lambda x: -10*x)\n",
    "\n",
    "pv_data_b = CSVDataSource(data_path / '1-LV-rural2--1-sw' / 'RESProfile.csv', \n",
    "        delimiter=\";\", \n",
    "        datetime_format=\"%d.%m.%Y %H:%M\", \n",
    "        rename_dict={\"time\": \"t\", \"PV7\": \"p\"},\n",
    "        auto_drop=True, \n",
    "        resample=frequency).apply_to_column(\"p\", lambda x: -10*x)\n",
    "\n",
    "# Temperature profile and COP Time-Series from the BDEW Dataset\n",
    "temp_data = CSVDataSource(\n",
    "    data_path / 'open-power-data/DE_Temperature_and_COP2016_PV_Open_Power_Load_BDEW.csv',\n",
    "    delimiter=\";\",\n",
    "    datetime_format=\"%d.%m.%Y %H:%M\",\n",
    "    rename_dict={\"time\": \"t\", \"outside_temp\": \"T_outside\", \"COP\": \"COP\"},\n",
    "    auto_drop=True,\n",
    "    resample=frequency)\n",
    "\n",
    "load_dp_a = DataProvider(load_data_a, PerfectKnowledgeForecaster(frequency=frequency, horizon=horizon))\n",
    "load_dp_b = DataProvider(load_data_b, PerfectKnowledgeForecaster(frequency=frequency, horizon=horizon))\n",
    "load_dp_c = DataProvider(load_data_c, PerfectKnowledgeForecaster(frequency=frequency, horizon=horizon))\n",
    "price_dp = DataProvider(price_data, PerfectKnowledgeForecaster(frequency=frequency, horizon=horizon))\n",
    "pv_dp_a = DataProvider(pv_data_a, PerfectKnowledgeForecaster(frequency=frequency, horizon=horizon))\n",
    "pv_dp_b = DataProvider(pv_data_b, PerfectKnowledgeForecaster(frequency=frequency, horizon=horizon))\n",
    "temp_dp = DataProvider(temp_data, PerfectKnowledgeForecaster(frequency=frequency, horizon=horizon))\n",
    "\n",
    "# \"pessimistic\" noisy forecasters\n",
    "# loads are overestimated; generation, temperature and heatpump cop are underestimated; prices are noisy without bias\n",
    "load_dp_a_noisy_pess = DataProvider(load_data_a, NoisyForecaster(frequency=frequency, horizon=horizon, noise_bounds=[0.0, 0.2]))\n",
    "load_dp_b_noisy_pess = DataProvider(load_data_b, NoisyForecaster(frequency=frequency, horizon=horizon, noise_bounds=[0.0, 0.2]))\n",
    "load_dp_c_noisy_pess = DataProvider(load_data_c, NoisyForecaster(frequency=frequency, horizon=horizon, noise_bounds=[0.0, 0.2]))\n",
    "price_dp_noisy_pess = DataProvider(price_data, NoisyForecaster(frequency=frequency, horizon=horizon, noise_bounds=[-0.2, 0.2]))\n",
    "pv_dp_a_noisy_pess = DataProvider(pv_data_a, NoisyForecaster(frequency=frequency, horizon=horizon, noise_bounds=[-0.2, 0.0]))\n",
    "pv_dp_b_noisy_pess = DataProvider(pv_data_b, NoisyForecaster(frequency=frequency, horizon=horizon, noise_bounds=[-0.2, 0.0]))\n",
    "temp_dp_noisy_pess = DataProvider(temp_data, NoisyForecaster(frequency=frequency, horizon=horizon, noise_bounds=[-0.1, 0.0]))\n",
    "\n",
    "# \"optimistic\" noisy forecasters\n",
    "# loads are underestimated; generation, temperature and heatpump cop are overestimated; prices are noisy without bias\n",
    "load_dp_a_noisy_opt = DataProvider(load_data_a, NoisyForecaster(frequency=frequency, horizon=horizon, noise_bounds=[-0.2, 0.0]))\n",
    "load_dp_b_noisy_opt = DataProvider(load_data_b, NoisyForecaster(frequency=frequency, horizon=horizon, noise_bounds=[-0.2, 0.0]))\n",
    "load_dp_c_noisy_opt = DataProvider(load_data_c, NoisyForecaster(frequency=frequency, horizon=horizon, noise_bounds=[-0.2, 0.0]))\n",
    "price_dp_noisy_opt = DataProvider(price_data, NoisyForecaster(frequency=frequency, horizon=horizon, noise_bounds=[-0.2, 0.2]))\n",
    "pv_dp_a_noisy_opt = DataProvider(pv_data_a, NoisyForecaster(frequency=frequency, horizon=horizon, noise_bounds=[0.0, 0.2]))\n",
    "pv_dp_b_noisy_opt = DataProvider(pv_data_b, NoisyForecaster(frequency=frequency, horizon=horizon, noise_bounds=[0.0, 0.2]))\n",
    "temp_dp_noisy_opt = DataProvider(temp_data, NoisyForecaster(frequency=frequency, horizon=horizon, noise_bounds=[0.0, 0.1]))"
   ]
  },
  {
   "cell_type": "markdown",
   "id": "0405812d",
   "metadata": {},
   "source": [
    "### System setup"
   ]
  },
  {
   "cell_type": "markdown",
   "id": "61ddfbd8",
   "metadata": {},
   "source": [
    "This is the first tutorial in which we use non-linear components, e.g. ESS, EV, and heat pump. \\\n",
    "All of the predefined models are at most quadratically constrained with quadratic cost functions. \\\n",
    "Since we model piecewise-linear behavior (e.g. charge/discharge) via binary indicator variables, we end up with a Mixed Integer Quadratically Constrained Quadratic Program (MIQCQP). \\\n",
    "By our experience, our default solver Gurobi can handle this type of problem with reasonable efficiency.\n",
    "\n",
    "The system model in this tutorial has 452 quadratic objective terms, 752 quadratic constraints (4486 continuous variables, 2575 integer (binar) variables) and is usually solved to an optimality gap < 0.5% in under 1 min (per timestep). \\\n",
    "Including components with more complex non-linear models or scaling the number of entities might result in vastly longer solve times. \\\n",
    "Note that as soon as we venture in the realm of Mixed Integer Programming or Quadratic Programming we generally lose guarantees to find the globally optimal solution in polynomial time."
   ]
  },
  {
   "cell_type": "code",
   "execution_count": null,
   "id": "8b1331d2",
   "metadata": {},
   "outputs": [],
   "source": [
    "def spawn_sys(\n",
    "        load_dp_a, load_dp_b, load_dp_c,\n",
    "        pv_dp_a, pv_dp_b,\n",
    "        temp_dp,\n",
    "        price_dp\n",
    "    ) -> System:\n",
    "    \n",
    "    np.random.seed(rand_seed)\n",
    "\n",
    "    factory = Factory()\n",
    "\n",
    "    factory.set_bus_template(Bus, meta_config={\n",
    "                                    \"p\": Sampler(uniform, low=[-1e6, 1e6], high=[-1e6, 1e6]), \n",
    "                                    \"q\": Sampler(uniform, low=[-1e6, 1e6], high=[-1e6, 1e6]),\n",
    "                                    \"v\": Sampler(uniform, low=[0.9, 1.1], high=[0.9, 1.1]),\n",
    "                                    \"d\": Sampler(uniform, low=[-15, 15], high=[-15, 15])\n",
    "                                })\n",
    "\n",
    "    # add components to factory\n",
    "    # Load: base load of the household (corresponds to fridge, dishwasher, washing machine, etc.)\n",
    "    factory.add_component_template(Load, probability=1., data_providers=[Sampler(choice, a=[load_dp_a, load_dp_b, load_dp_c])])\n",
    "    # RenewableGen: renewable generation (e.g., PV)\n",
    "    factory.add_component_template(RenewableGen, probability=.7, meta_config={\n",
    "                                    \"p\": Sampler(uniform, low=[-7, 0], high=[-7, 0]), \n",
    "                                    \"q\": Sampler(uniform, low=[0, 0], high=[0, 0])\n",
    "                                    }, \n",
    "                                data_providers=[Sampler(choice, a=[pv_dp_a, pv_dp_b])]\n",
    "                                )\n",
    "\n",
    "    factory.add_component_template(ESS, probability=0.4, meta_config={\n",
    "        'rho': 0.01, \n",
    "        'p': Sampler(uniform, low=[-5, 5], high=[-5, 5]), \n",
    "        'q': Sampler(uniform, low=[0, 0], high=[0, 0]), \n",
    "        'etac': 0.98,\n",
    "        'etad': 0.98,\n",
    "        'etas': 0.99,\n",
    "        'soc': Sampler(uniform, low=[2, 8], high=[2, 15]), \n",
    "        \"soc_init\": [ConstantInitializer, {\"val\": 3.0}]\n",
    "    })\n",
    "\n",
    "    factory.add_component_template(EV, probability=0.4, meta_config={\n",
    "        \"p\": Sampler(uniform, low=[-15, 15], high=[-20, 20]),\n",
    "        \"soc\": Sampler(uniform, low=[2, 25], high=[2, 60]),\n",
    "        \"rho\": 0.02,\n",
    "        \"etac\": 0.95,\n",
    "        \"etad\": 0.95,\n",
    "        \"etas\": 0.99,\n",
    "        \"departure\": Sampler(randint, low=8, high=11),\n",
    "        \"return\": Sampler(randint, low=16, high=21),\n",
    "        \"req_soc_rel\": Sampler(uniform, low=0.5, high=0.9),\n",
    "        \"soc_init\": [ConstantInitializer, {\"val\": 5.0}]\n",
    "    })\n",
    "\n",
    "    factory.add_component_template(HeatPumpWithoutStorageButCOP, probability=0.3, meta_config={\n",
    "            'p': (0, 5),  # kW\n",
    "            # 'q': [0, 5],  # kW\n",
    "            'T_indoor_setpoint': 21,  # °C\n",
    "            'T_indoor': (12, 32),  # °C indoor temperature range\n",
    "            \"T_indoor_init\": [ConstantInitializer, {\"val\": 21.0}],\n",
    "            'T_ret_FH': (10, 100),\n",
    "            'T_ret_FH_init': [ConstantInitializer, {\"val\": 25.0}],\n",
    "            'H_FH': 1.1,  # kW/K\n",
    "            'H_out': 0.26,  # kW/K\n",
    "            'tau_building': 240,  # h\n",
    "            'Cw_FH': 1.1625,  # kWh/K\n",
    "            'c': 1000  # weighting factor for cost function; multiplied with comfort deviation\n",
    "        }, \n",
    "        data_providers=[temp_dp]\n",
    "    )\n",
    "\n",
    "    # initialize system\n",
    "    net = pn.create_kerber_landnetz_kabel_2()\n",
    "    sys = PandaPowerImporter().import_net(net=net, power_flow_model=power_flow_mode, node_factory=factory, restrict_factory_to=\"loadbus\")\n",
    "\n",
    "    trading_node = TradingBusLinear(\"TradingBus\", {}).add_data_provider(price_dp)\n",
    "\n",
    "    # set node 1 (main_busbar) as external grid connection, i.e. trading node\n",
    "    sys.add_node(trading_node, at_index=1)\n",
    "\n",
    "    # update the respective lines\n",
    "    sys.lines[0].src = trading_node\n",
    "    sys.lines[24].src = trading_node\n",
    "\n",
    "    # remove line from ext to main busbar\n",
    "    sys.lines.pop(-1)\n",
    "    # remove node 0\n",
    "    sys.nodes.pop(0)\n",
    "    # Show the system set-up\n",
    "    sys.pprint()\n",
    "    \n",
    "    return sys"
   ]
  },
  {
   "cell_type": "markdown",
   "id": "b011a62f",
   "metadata": {},
   "source": [
    "### Solver setup"
   ]
  },
  {
   "cell_type": "markdown",
   "id": "6e4df06e",
   "metadata": {},
   "source": [
    "More complex scenarios might need solver tuning, for parameters of the Gurobi solver refer to [Gurobi Solver Parameters](https://www.gurobi.com/documentation/current/refman/parameters.html).\n",
    "\n",
    "CommonPower's default solver options only include very basic settings, we state them below for transparency. \n",
    "\n",
    "One parameter which can greatly influence the solve time of MIPs is the optimality gap (MIPGap). \\\n",
    "It essentially allows a direct trade-off between computation time and the objective value of MI-feasible solutions. \\\n",
    "By our experience, a value of 0.5% optimality gap (default is 0.01%) is a resonable value.\n",
    "\n",
    "Another important parameter is the integrality tolerance (i.e. what the solver still considers an integer). \n",
    "We set this very low by default as there exisits a direct relationship with the BigM constraints we use for binary indicator variables. \\\n",
    "We recommend to not decrease this value if in any way avoidable."
   ]
  },
  {
   "cell_type": "code",
   "execution_count": null,
   "id": "3d964bb8",
   "metadata": {},
   "outputs": [],
   "source": [
    "from pyomo.environ import SolverFactory\n",
    "\n",
    "solver_oc = SolverFactory('gurobi')  # this is the \"actual\" model predictive controller\n",
    "solver_sys = SolverFactory('gurobi')  # this is the system solver to solve for all non-controlled variables\n",
    "\n",
    "DEFAULT_SOLVER_OPTIONS = {\n",
    "    \"MIPFocus\": 1,  # focus on feasible solutions not optimality\n",
    "    \"IntFeasTol\": 1e-9,  # integrality tolerance. Important for MIPs, see MIPExpressionBuilder\n",
    "    \"TimeLimit\": 60,  # limit solve time to 60s\n",
    "}\n",
    "solver_oc.options.update(DEFAULT_SOLVER_OPTIONS)\n",
    "solver_sys.options.update(DEFAULT_SOLVER_OPTIONS)\n",
    "\n",
    "solver_oc.options[\"MIPGap\"] = \"0.005\"  # 0.5%\n",
    "solver_sys.options[\"MIPGap\"] = \"0.005\"  # 0.5%\n",
    "\n",
    "solver_oc.options[\"LogFile\"] = \"solver_oc.log\"  # prints the solver log to file\n",
    "solver_sys.options[\"LogFile\"] = \"solver_sys.log\"  # prints the solver log to file"
   ]
  },
  {
   "cell_type": "markdown",
   "id": "d9aea641",
   "metadata": {},
   "source": [
    "## Simulation"
   ]
  },
  {
   "cell_type": "markdown",
   "id": "661ad187",
   "metadata": {},
   "source": [
    "### Perfect forecasts"
   ]
  },
  {
   "cell_type": "code",
   "execution_count": null,
   "id": "2afc4102",
   "metadata": {},
   "outputs": [],
   "source": [
    "pk_sys = spawn_sys(load_dp_a, load_dp_b, load_dp_c,\n",
    "        pv_dp_a, pv_dp_b,\n",
    "        temp_dp,\n",
    "        price_dp)\n",
    "\n",
    "pk_sys_history = ModelHistory([pk_sys])\n",
    "runner = DeploymentRunner(sys=pk_sys, global_controller=OptimalController(\"global\", solver=solver_oc), seed=rand_seed, continuous_control=True, history=pk_sys_history, solver=solver_sys)\n",
    "runner.run(n_steps=sim_steps, fixed_start=start_time)"
   ]
  },
  {
   "cell_type": "markdown",
   "id": "83cc9e68",
   "metadata": {},
   "source": [
    "### Pessimistic noisy forecasts"
   ]
  },
  {
   "cell_type": "code",
   "execution_count": null,
   "id": "9a6bfd68",
   "metadata": {},
   "outputs": [],
   "source": [
    "noisy_pess_sys = spawn_sys(load_dp_a_noisy_pess, load_dp_b_noisy_pess, load_dp_c_noisy_pess,\n",
    "        pv_dp_a_noisy_pess, pv_dp_b_noisy_pess,\n",
    "        temp_dp_noisy_pess,\n",
    "        price_dp\n",
    ")\n",
    "\n",
    "noisy_pess_sys_history = ModelHistory([noisy_pess_sys])\n",
    "runner = DeploymentRunner(sys=noisy_pess_sys, global_controller=OptimalController(\"global\", solver=solver_oc), seed=rand_seed, continuous_control=True, history=noisy_pess_sys_history, solver=solver_sys)\n",
    "runner.run(n_steps=sim_steps, fixed_start=start_time)"
   ]
  },
  {
   "cell_type": "markdown",
   "id": "532012e2",
   "metadata": {},
   "source": [
    "### Optimistic noisy forecasts"
   ]
  },
  {
   "cell_type": "code",
   "execution_count": null,
   "id": "316572ae",
   "metadata": {},
   "outputs": [],
   "source": [
    "noisy_opt_sys = spawn_sys(load_dp_a_noisy_opt, load_dp_b_noisy_opt, load_dp_c_noisy_opt,\n",
    "        pv_dp_a_noisy_opt, pv_dp_b_noisy_opt,\n",
    "        temp_dp_noisy_opt,\n",
    "        price_dp\n",
    ")\n",
    "\n",
    "noisy_opt_sys_history = ModelHistory([noisy_opt_sys])\n",
    "runner = DeploymentRunner(sys=noisy_opt_sys, global_controller=OptimalController(\"global\", solver=solver_oc), seed=rand_seed, continuous_control=True, history=noisy_opt_sys_history, solver=solver_sys)\n",
    "runner.run(n_steps=sim_steps, fixed_start=start_time)"
   ]
  },
  {
   "cell_type": "markdown",
   "id": "b0e2cfbc",
   "metadata": {},
   "source": [
    "## Evaluation"
   ]
  },
  {
   "cell_type": "markdown",
   "id": "d09664b0",
   "metadata": {},
   "source": [
    "With regards to heat pump control we can see two effects of the noisy forecast: \\\n",
    "First, the control of each heat pump varies noticeably while with perfect forecasts all heat pumps are controlled almost identically. \\\n",
    "Second, the pessimistic forecast unsurprisingly leads to a higher average indoor temperature (because the forecaster expects a lower temperature and the controller steers against that). \\\n",
    "The converse holds true for the optimistic forecast."
   ]
  },
  {
   "cell_type": "code",
   "execution_count": null,
   "id": "292761cb",
   "metadata": {},
   "outputs": [],
   "source": [
    "hist = pk_sys_history.filter_for_entity_types(HeatPumpWithoutStorageButCOP).filter_for_element_names([\"T_indoor\", \"T_indoor_setpoint\"]).plot(return_time_series=True)"
   ]
  },
  {
   "cell_type": "code",
   "execution_count": null,
   "id": "621fca74",
   "metadata": {},
   "outputs": [],
   "source": [
    "hist = noisy_pess_sys_history.filter_for_entity_types(HeatPumpWithoutStorageButCOP).filter_for_element_names([\"T_indoor\", \"T_indoor_setpoint\"]).plot(return_time_series=True)"
   ]
  },
  {
   "cell_type": "code",
   "execution_count": null,
   "id": "80553886",
   "metadata": {},
   "outputs": [],
   "source": [
    "hist = noisy_opt_sys_history.filter_for_entity_types(HeatPumpWithoutStorageButCOP).filter_for_element_names([\"T_indoor\", \"T_indoor_setpoint\"]).plot(return_time_series=True)"
   ]
  },
  {
   "cell_type": "markdown",
   "id": "2dea968f",
   "metadata": {},
   "source": [
    "With regards to the total system cost we can see that, somewhat surprisingly, the noisy forecasts only increase the sysem cost by a negligible amount. \\\n",
    "Apparently, the controller has enough degrees of freedom to operate optimally even with the present noise."
   ]
  },
  {
   "cell_type": "code",
   "execution_count": null,
   "id": "199c578f",
   "metadata": {},
   "outputs": [],
   "source": [
    "pk_cost = pk_sys_history.filter_for_entity_types(System).filter_for_element_names([\"cost\"])\n",
    "noisy_pess_cost = noisy_pess_sys_history.filter_for_entity_types(System).filter_for_element_names([\"cost\"])\n",
    "noisy_opt_cost = noisy_opt_sys_history.filter_for_entity_types(System).filter_for_element_names([\"cost\"])\n",
    "costs = pk_cost.plot([noisy_pess_cost, noisy_opt_cost], return_time_series=True)"
   ]
  },
  {
   "cell_type": "code",
   "execution_count": null,
   "id": "ee90c24e",
   "metadata": {},
   "outputs": [],
   "source": [
    "for c, v in costs.items():\n",
    "    print(f\"{c} : {sum(v)}\")"
   ]
  },
  {
   "cell_type": "code",
   "execution_count": null,
   "id": "c97b74f1",
   "metadata": {},
   "outputs": [],
   "source": []
  }
 ],
 "metadata": {
  "kernelspec": {
   "display_name": "Python 3 (ipykernel)",
   "language": "python",
   "name": "python3"
  },
  "language_info": {
   "codemirror_mode": {
    "name": "ipython",
    "version": 3
   },
   "file_extension": ".py",
   "mimetype": "text/x-python",
   "name": "python",
   "nbconvert_exporter": "python",
   "pygments_lexer": "ipython3",
   "version": "3.10.4"
  }
 },
 "nbformat": 4,
 "nbformat_minor": 5
}
